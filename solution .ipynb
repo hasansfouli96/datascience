{
 "cells": [
  {
   "cell_type": "markdown",
   "metadata": {},
   "source": [
    "<h1>exercice 1</h1>"
   ]
  },
  {
   "cell_type": "code",
   "execution_count": null,
   "metadata": {},
   "outputs": [],
   "source": [
    "def retourn_annee(s):\n",
    "    tab=s.split()\n",
    "    return tab[-1]\n",
    "\n",
    "s=\"Tue Oct 18 21:53:25 +0000 2011\"\n",
    "print(retourn_annee(s))"
   ]
  },
  {
   "cell_type": "code",
   "execution_count": null,
   "metadata": {},
   "outputs": [],
   "source": [
    "def nbr_tweet_annee(chemin):\n",
    "    f=open(chemin,'r',encoding='latin-1')\n",
    "    txt=[]\n",
    "    dates=[]\n",
    "    d={}\n",
    "    for i in f:\n",
    "        text=f.readline()\n",
    "        t=text.split(',')\n",
    "        txt.append(t)\n",
    "    for i in range(14):\n",
    "        dates.append(int(retourn_annee(txt[i][3])[0:4]))\n",
    "    \n",
    "    for i in dates:\n",
    "        if i not in d:\n",
    "            d[\"i\"]=dates.count(i)\n",
    "    f.close()\n",
    "    return d\n",
    "# monsieur il y a un probleme au niveau du fichier c'est pour cela j'ai utilisé une boucle sur les premiers 14 elemnts"
   ]
  },
  {
   "cell_type": "code",
   "execution_count": null,
   "metadata": {},
   "outputs": [],
   "source": [
    "def pourcentage(chemin):\n",
    "    f=open(chemin,'r',encoding='latin-1')\n",
    "    txt=f.readlines()\n",
    "    p=[]\n",
    "    d={}\n",
    "    for i in range(14):\n",
    "        t=txt[i].split(',')\n",
    "        p.append(t[1])\n",
    "    p.remove('\"Sentiment\"')\n",
    "    for i in p:\n",
    "            if i not in d:\n",
    "                d[\"i\"]=(p.count(i)/len(p))*100\n",
    "    f.close()\n",
    "    return d\n",
    "# monsieur il y a un probleme au niveau du fichier c'est pour cela j'ai utilisé une boucle sur les premiers 14 elemnts"
   ]
  },
  {
   "cell_type": "markdown",
   "metadata": {},
   "source": [
    "<h1>exercice 2</h1>"
   ]
  },
  {
   "cell_type": "code",
   "execution_count": null,
   "metadata": {},
   "outputs": [],
   "source": [
    "import pandas as pd\n",
    "df=pd.read_csv('C:/Users/nassi/Desktop/python/tweets-corpus.csv')\n"
   ]
  },
  {
   "cell_type": "code",
   "execution_count": null,
   "metadata": {},
   "outputs": [],
   "source": [
    "df.head(5)"
   ]
  },
  {
   "cell_type": "code",
   "execution_count": null,
   "metadata": {},
   "outputs": [],
   "source": [
    " #question 1\n",
    "df['TweetId'].count()\n",
    "\n",
    "# question 2\n",
    "df.groupby(\"Sentiment\")[\"Sentiment\"].count()\n",
    "\n",
    "#question 3\n",
    "df[[\"Sentiment\",\"TweetText\"]]  "
   ]
  },
  {
   "cell_type": "code",
   "execution_count": null,
   "metadata": {},
   "outputs": [],
   "source": [
    "#exercice 4\n",
    "t=[]\n",
    "for i in df[\"TweetDate\"]:\n",
    "    t.append(i.split()[5])\n",
    "df[\"annee\"]=t\n",
    "\n",
    "df[df[\"Sentiment\"]==\"positive\"].sort_values(by=[\"annee\"],axis=0,ascending=False)\n",
    "# ici toutes les dates ont la valeur 2011 on ne peut pas remarquer l'ordre décroissant"
   ]
  },
  {
   "cell_type": "code",
   "execution_count": null,
   "metadata": {},
   "outputs": [],
   "source": [
    "#exercie 6\n",
    "tab=[]\n",
    "for i in df[\"TweetText\"]:\n",
    "    tab.append(len(i.split()))\n",
    "df[\"nbr_mots\"]=tab\n",
    "df"
   ]
  },
  {
   "cell_type": "code",
   "execution_count": null,
   "metadata": {},
   "outputs": [],
   "source": [
    " # exercice 7\n",
    "df.groupby(\"Sentiment\")[\"Sentiment\"].count()"
   ]
  },
  {
   "cell_type": "markdown",
   "metadata": {},
   "source": [
    "<h1>exercice 2</h1>"
   ]
  },
  {
   "cell_type": "code",
   "execution_count": null,
   "metadata": {},
   "outputs": [],
   "source": [
    "#exercice 1\n",
    "import matplotlib.pyplot as plt\n",
    "t=[]\n",
    "for i in df[\"Sentiment\"]:\n",
    "    if i not in t:\n",
    "        t.append(i)\n",
    "        \n",
    "plt.bar(t,df.groupby(\"Sentiment\")[\"Sentiment\"].count())\n",
    "plt.show()"
   ]
  },
  {
   "cell_type": "code",
   "execution_count": null,
   "metadata": {},
   "outputs": [],
   "source": [
    "#exercice 2\n",
    "t=[]\n",
    "for i in df[\"Topic\"]:\n",
    "    if i not in t:\n",
    "        t.append(i)\n",
    "t\n",
    "plt.bar(t,df.groupby(\"Topic\")[\"Topic\"].count())\n",
    "plt.show()"
   ]
  },
  {
   "cell_type": "code",
   "execution_count": null,
   "metadata": {},
   "outputs": [],
   "source": [
    "#exercice 3\n"
   ]
  },
  {
   "cell_type": "code",
   "execution_count": null,
   "metadata": {},
   "outputs": [],
   "source": []
  }
 ],
 "metadata": {
  "kernelspec": {
   "display_name": "Python 3",
   "language": "python",
   "name": "python3"
  },
  "language_info": {
   "codemirror_mode": {
    "name": "ipython",
    "version": 3
   },
   "file_extension": ".py",
   "mimetype": "text/x-python",
   "name": "python",
   "nbconvert_exporter": "python",
   "pygments_lexer": "ipython3",
   "version": "3.6.6"
  }
 },
 "nbformat": 4,
 "nbformat_minor": 2
}
